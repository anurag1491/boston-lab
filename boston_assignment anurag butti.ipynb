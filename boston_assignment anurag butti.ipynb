{
 "metadata": {
  "name": "",
  "signature": "sha256:90065a9c0bcc80291a9c7ae72f22f8f868618d81283d775ccf8ee23ff3e83a1a"
 },
 "nbformat": 3,
 "nbformat_minor": 0,
 "worksheets": [
  {
   "cells": [
    {
     "cell_type": "code",
     "collapsed": false,
     "input": [
      "from sklearn import datasets\n",
      "import pandas as pd\n",
      "from sklearn.preprocessing import StandardScaler\n",
      "from sklearn.cross_validation import train_test_split\n",
      "from sklearn.metrics import mean_squared_error\n",
      "from sklearn.metrics import r2_score\n",
      "from sklearn.linear_model import LinearRegression\n",
      "from sklearn import datasets\n",
      "import pandas as pd\n",
      "%pylab inline\n",
      "from sklearn.preprocessing import StandardScaler\n",
      "from sklearn.cross_validation import train_test_split\n",
      "from sklearn.metrics import mean_squared_error\n",
      "from sklearn.metrics import r2_score\n",
      "from sklearn.linear_model import LinearRegression\n",
      "from sklearn.linear_model import Lasso\n",
      "import numpy as np\n",
      "from matplotlib import pyplot as plt\n",
      "from IPython.display import display\n",
      "from sklearn.neighbors import KNeighborsRegressor\n",
      "\n",
      "%matplotlib inline "
     ],
     "language": "python",
     "metadata": {},
     "outputs": [
      {
       "output_type": "stream",
       "stream": "stdout",
       "text": [
        "Populating the interactive namespace from numpy and matplotlib\n"
       ]
      },
      {
       "output_type": "stream",
       "stream": "stderr",
       "text": [
        "WARNING: pylab import has clobbered these variables: ['clf']\n",
        "`%matplotlib` prevents importing * from pylab and numpy\n"
       ]
      }
     ],
     "prompt_number": 21
    },
    {
     "cell_type": "code",
     "collapsed": false,
     "input": [
      "bean = datasets.load_boston()\n",
      "print bean.DESCR"
     ],
     "language": "python",
     "metadata": {},
     "outputs": [
      {
       "output_type": "stream",
       "stream": "stdout",
       "text": [
        "Boston House Prices dataset\n",
        "\n",
        "Notes\n",
        "------\n",
        "Data Set Characteristics:  \n",
        "\n",
        "    :Number of Instances: 506 \n",
        "\n",
        "    :Number of Attributes: 13 numeric/categorical predictive\n",
        "    \n",
        "    :Median Value (attribute 14) is usually the target\n",
        "\n",
        "    :Attribute Information (in order):\n",
        "        - CRIM     per capita crime rate by town\n",
        "        - ZN       proportion of residential land zoned for lots over 25,000 sq.ft.\n",
        "        - INDUS    proportion of non-retail business acres per town\n",
        "        - CHAS     Charles River dummy variable (= 1 if tract bounds river; 0 otherwise)\n",
        "        - NOX      nitric oxides concentration (parts per 10 million)\n",
        "        - RM       average number of rooms per dwelling\n",
        "        - AGE      proportion of owner-occupied units built prior to 1940\n",
        "        - DIS      weighted distances to five Boston employment centres\n",
        "        - RAD      index of accessibility to radial highways\n",
        "        - TAX      full-value property-tax rate per $10,000\n",
        "        - PTRATIO  pupil-teacher ratio by town\n",
        "        - B        1000(Bk - 0.63)^2 where Bk is the proportion of blacks by town\n",
        "        - LSTAT    % lower status of the population\n",
        "        - MEDV     Median value of owner-occupied homes in $1000's\n",
        "\n",
        "    :Missing Attribute Values: None\n",
        "\n",
        "    :Creator: Harrison, D. and Rubinfeld, D.L.\n",
        "\n",
        "This is a copy of UCI ML housing dataset.\n",
        "http://archive.ics.uci.edu/ml/datasets/Housing\n",
        "\n",
        "\n",
        "This dataset was taken from the StatLib library which is maintained at Carnegie Mellon University.\n",
        "\n",
        "The Boston house-price data of Harrison, D. and Rubinfeld, D.L. 'Hedonic\n",
        "prices and the demand for clean air', J. Environ. Economics & Management,\n",
        "vol.5, 81-102, 1978.   Used in Belsley, Kuh & Welsch, 'Regression diagnostics\n",
        "...', Wiley, 1980.   N.B. Various transformations are used in the table on\n",
        "pages 244-261 of the latter.\n",
        "\n",
        "The Boston house-price data has been used in many machine learning papers that address regression\n",
        "problems.   \n",
        "     \n",
        "**References**\n",
        "\n",
        "   - Belsley, Kuh & Welsch, 'Regression diagnostics: Identifying Influential Data and Sources of Collinearity', Wiley, 1980. 244-261.\n",
        "   - Quinlan,R. (1993). Combining Instance-Based and Model-Based Learning. In Proceedings on the Tenth International Conference of Machine Learning, 236-243, University of Massachusetts, Amherst. Morgan Kaufmann.\n",
        "   - many more! (see http://archive.ics.uci.edu/ml/datasets/Housing)\n",
        "\n"
       ]
      }
     ],
     "prompt_number": 22
    },
    {
     "cell_type": "code",
     "collapsed": false,
     "input": [
      "def load_boston():\n",
      "    scaler = StandardScaler()\n",
      "    boston = datasets.load_boston()\n",
      "    X=boston.data\n",
      "    y=boston.target\n",
      "    X = scaler.fit_transform(X)\n",
      "    return train_test_split(X,y)\n",
      "    "
     ],
     "language": "python",
     "metadata": {},
     "outputs": [],
     "prompt_number": 23
    },
    {
     "cell_type": "code",
     "collapsed": false,
     "input": [
      "X_train, X_test, y_train, y_test = load_boston()"
     ],
     "language": "python",
     "metadata": {},
     "outputs": [],
     "prompt_number": 24
    },
    {
     "cell_type": "code",
     "collapsed": false,
     "input": [
      "X_train.shape"
     ],
     "language": "python",
     "metadata": {},
     "outputs": [
      {
       "metadata": {},
       "output_type": "pyout",
       "prompt_number": 25,
       "text": [
        "(379L, 13L)"
       ]
      }
     ],
     "prompt_number": 25
    },
    {
     "cell_type": "markdown",
     "metadata": {},
     "source": [
      "### Fitting a Linear Regression\n"
     ]
    },
    {
     "cell_type": "code",
     "collapsed": false,
     "input": [
      "\n",
      "clf = LinearRegression()\n",
      "clf.fit(X_train, y_train)"
     ],
     "language": "python",
     "metadata": {},
     "outputs": [
      {
       "metadata": {},
       "output_type": "pyout",
       "prompt_number": 26,
       "text": [
        "LinearRegression(copy_X=True, fit_intercept=True, normalize=False)"
       ]
      }
     ],
     "prompt_number": 26
    },
    {
     "cell_type": "markdown",
     "metadata": {},
     "source": [
      "### Making a Prediction\n"
     ]
    },
    {
     "cell_type": "code",
     "collapsed": false,
     "input": [
      "zip (y_test, clf.predict(X_test))"
     ],
     "language": "python",
     "metadata": {},
     "outputs": [
      {
       "metadata": {},
       "output_type": "pyout",
       "prompt_number": 27,
       "text": [
        "[(41.700000000000003, 38.427739687610405),\n",
        " (19.199999999999999, 20.373942154388491),\n",
        " (17.5, 18.516878380794825),\n",
        " (24.699999999999999, 24.248175794562322),\n",
        " (20.5, 19.61512261621537),\n",
        " (25.0, 29.242265203241061),\n",
        " (12.300000000000001, 13.655114558576788),\n",
        " (20.399999999999999, 20.187505522486337),\n",
        " (24.600000000000001, 24.642213515198737),\n",
        " (25.0, 27.479471709932977),\n",
        " (18.600000000000001, 16.650407468389442),\n",
        " (14.6, 19.822480980977133),\n",
        " (33.299999999999997, 36.232120159679255),\n",
        " (34.899999999999999, 34.593650244208376),\n",
        " (17.399999999999999, 22.311470490834875),\n",
        " (13.800000000000001, 21.168560345262193),\n",
        " (19.100000000000001, 17.367906992531797),\n",
        " (34.899999999999999, 34.795538807919598),\n",
        " (13.4, 14.359683281449234),\n",
        " (16.699999999999999, 21.302366183016446),\n",
        " (50.0, 42.27883675481263),\n",
        " (8.5, 17.107594307515519),\n",
        " (18.899999999999999, 21.305977060956518),\n",
        " (15.199999999999999, 20.226941366483985),\n",
        " (22.600000000000001, 26.996722912307739),\n",
        " (25.0, 22.419358920366513),\n",
        " (18.699999999999999, 21.310208875331512),\n",
        " (21.199999999999999, 23.509832914434948),\n",
        " (23.899999999999999, 27.991699869448667),\n",
        " (32.700000000000003, 30.162579798203517),\n",
        " (17.600000000000001, 15.959256088806224),\n",
        " (22.600000000000001, 26.508867104654307),\n",
        " (35.200000000000003, 35.351022316000353),\n",
        " (43.100000000000001, 37.547690129973816),\n",
        " (32.0, 33.688441329030155),\n",
        " (22.0, 20.853343455660475),\n",
        " (31.5, 31.456672584382154),\n",
        " (14.4, 3.4072646204264174),\n",
        " (21.600000000000001, 25.664165189525811),\n",
        " (50.0, 33.911620288311298),\n",
        " (20.899999999999999, 20.51167453271318),\n",
        " (21.899999999999999, 38.814384812948397),\n",
        " (36.200000000000003, 27.619182206798463),\n",
        " (22.399999999999999, 23.596672189789494),\n",
        " (21.0, 20.761266046125513),\n",
        " (42.799999999999997, 29.935241742150119),\n",
        " (14.6, 8.283484672989017),\n",
        " (15.6, 12.041451408305383),\n",
        " (28.0, 28.428061838735559),\n",
        " (8.3000000000000007, 9.1891366223220849),\n",
        " (23.100000000000001, 24.889229855570186),\n",
        " (18.800000000000001, 20.29598839497276),\n",
        " (17.199999999999999, 14.11108909677408),\n",
        " (13.4, 16.321466866297524),\n",
        " (23.699999999999999, 28.093576524549043),\n",
        " (50.0, 41.082882359904389),\n",
        " (42.299999999999997, 37.357806743739069),\n",
        " (28.600000000000001, 28.231435059352787),\n",
        " (28.699999999999999, 25.042535952225329),\n",
        " (6.2999999999999998, 11.022251339351268),\n",
        " (33.799999999999997, 35.092432881937611),\n",
        " (33.0, 22.887494565943051),\n",
        " (19.5, 18.506056692871237),\n",
        " (14.199999999999999, 18.900103954057922),\n",
        " (23.800000000000001, 24.89234287551383),\n",
        " (18.399999999999999, 15.931379390684821),\n",
        " (23.100000000000001, 16.75513605452258),\n",
        " (35.399999999999999, 34.27958702789455),\n",
        " (15.199999999999999, 15.488838423405756),\n",
        " (37.200000000000003, 32.961908432876953),\n",
        " (23.300000000000001, 26.226913710597596),\n",
        " (21.800000000000001, 20.799346532615736),\n",
        " (17.100000000000001, 19.633157262267513),\n",
        " (20.5, 23.659121774486238),\n",
        " (24.0, 30.097567746815042),\n",
        " (22.199999999999999, 23.799021262325827),\n",
        " (13.300000000000001, 16.319206075817153),\n",
        " (19.300000000000001, 16.251090977941601),\n",
        " (12.1, 18.941022048841692),\n",
        " (29.100000000000001, 31.481621964870222),\n",
        " (7.0, 8.1435168554303665),\n",
        " (19.600000000000001, 19.730499650783411),\n",
        " (22.100000000000001, 27.073240786073153),\n",
        " (19.699999999999999, 13.792865314191673),\n",
        " (19.600000000000001, 17.514919776284998),\n",
        " (33.100000000000001, 34.873343484092658),\n",
        " (20.100000000000001, 19.162199464564978),\n",
        " (22.5, 17.3542444002073),\n",
        " (15.6, 12.977816043457031),\n",
        " (15.6, 15.525797168109465),\n",
        " (33.200000000000003, 35.599454635108515),\n",
        " (14.9, 17.713100726818105),\n",
        " (21.699999999999999, 23.768147651781074),\n",
        " (7.2000000000000002, 18.435003816403569),\n",
        " (8.8000000000000007, 2.9680050226313455),\n",
        " (16.300000000000001, 11.394555045107742),\n",
        " (10.199999999999999, 6.5458680285906858),\n",
        " (13.1, 16.061223263228705),\n",
        " (23.0, 29.570070758382617),\n",
        " (29.0, 31.944602820311992),\n",
        " (8.8000000000000007, 4.1551336897013371),\n",
        " (23.399999999999999, 23.742705766486111),\n",
        " (32.200000000000003, 31.564665567435725),\n",
        " (23.199999999999999, 23.315785864955121),\n",
        " (12.800000000000001, 13.720855052876372),\n",
        " (30.100000000000001, 35.395421097457579),\n",
        " (22.0, 27.08092389724726),\n",
        " (32.0, 34.084436520795521),\n",
        " (37.899999999999999, 33.985553233341705),\n",
        " (17.899999999999999, 0.44375719373492473),\n",
        " (18.5, 19.245119335842091),\n",
        " (22.0, 27.329233705339334),\n",
        " (45.399999999999999, 38.864960557264581),\n",
        " (13.9, 18.110042819001649),\n",
        " (24.100000000000001, 25.496224913044017),\n",
        " (20.100000000000001, 23.490365525660184),\n",
        " (31.100000000000001, 32.049529183982315),\n",
        " (26.600000000000001, 27.643752164228598),\n",
        " (24.800000000000001, 25.984945865240881),\n",
        " (26.199999999999999, 23.981452203653813),\n",
        " (22.600000000000001, 24.067716150903479),\n",
        " (19.600000000000001, 18.63159701444232),\n",
        " (12.6, 19.006006498268121),\n",
        " (36.399999999999999, 33.136553901488234),\n",
        " (31.5, 32.966906578418374),\n",
        " (17.300000000000001, 15.757445766107189),\n",
        " (28.699999999999999, 30.841145629049574)]"
       ]
      }
     ],
     "prompt_number": 27
    },
    {
     "cell_type": "raw",
     "metadata": {},
     "source": []
    },
    {
     "cell_type": "code",
     "collapsed": false,
     "input": [
      "from sklearn.datasets import *\n",
      "data = load_boston()\n",
      "print data.DESR"
     ],
     "language": "python",
     "metadata": {},
     "outputs": [
      {
       "ename": "AttributeError",
       "evalue": "'Bunch' object has no attribute 'DESR'",
       "output_type": "pyerr",
       "traceback": [
        "\u001b[1;31m---------------------------------------------------------------------------\u001b[0m\n\u001b[1;31mAttributeError\u001b[0m                            Traceback (most recent call last)",
        "\u001b[1;32m<ipython-input-28-9b48c6868d0c>\u001b[0m in \u001b[0;36m<module>\u001b[1;34m()\u001b[0m\n\u001b[0;32m      1\u001b[0m \u001b[1;32mfrom\u001b[0m \u001b[0msklearn\u001b[0m\u001b[1;33m.\u001b[0m\u001b[0mdatasets\u001b[0m \u001b[1;32mimport\u001b[0m \u001b[1;33m*\u001b[0m\u001b[1;33m\u001b[0m\u001b[0m\n\u001b[0;32m      2\u001b[0m \u001b[0mdata\u001b[0m \u001b[1;33m=\u001b[0m \u001b[0mload_boston\u001b[0m\u001b[1;33m(\u001b[0m\u001b[1;33m)\u001b[0m\u001b[1;33m\u001b[0m\u001b[0m\n\u001b[1;32m----> 3\u001b[1;33m \u001b[1;32mprint\u001b[0m \u001b[0mdata\u001b[0m\u001b[1;33m.\u001b[0m\u001b[0mDESR\u001b[0m\u001b[1;33m\u001b[0m\u001b[0m\n\u001b[0m",
        "\u001b[1;31mAttributeError\u001b[0m: 'Bunch' object has no attribute 'DESR'"
       ]
      }
     ],
     "prompt_number": 28
    },
    {
     "cell_type": "markdown",
     "metadata": {},
     "source": []
    },
    {
     "cell_type": "code",
     "collapsed": false,
     "input": [
      "from sklearn.datasets import *\n",
      "from sklearn.linear_model import LinearRegression\n",
      "\n",
      "data = load_boston()\n",
      "model = LinearRegression()\n",
      "model.fit(data.data, data.target)\n",
      "print model.__dict__\n",
      "print model.score(data.data, data.target)"
     ],
     "language": "python",
     "metadata": {},
     "outputs": [
      {
       "output_type": "stream",
       "stream": "stdout",
       "text": [
        "{'normalize': False, 'intercept_': 36.491103280360925, 'residues_': 11080.276284149873, 'fit_intercept': True, 'coef_': array([ -1.07170557e-01,   4.63952195e-02,   2.08602395e-02,\n",
        "         2.68856140e+00,  -1.77957587e+01,   3.80475246e+00,\n",
        "         7.51061703e-04,  -1.47575880e+00,   3.05655038e-01,\n",
        "        -1.23293463e-02,  -9.53463555e-01,   9.39251272e-03,\n",
        "        -5.25466633e-01]), 'copy_X': True, 'rank_': 13, 'singular_': array([  3.94958310e+03,   1.77662274e+03,   6.42864253e+02,\n",
        "         3.66980826e+02,   1.59116390e+02,   1.18692322e+02,\n",
        "         9.01718207e+01,   6.93889529e+01,   4.06572735e+01,\n",
        "         2.44223087e+01,   1.13502686e+01,   5.50918200e+00,\n",
        "         1.24178413e+00])}\n",
        "0.740607742865\n"
       ]
      }
     ],
     "prompt_number": 29
    },
    {
     "cell_type": "code",
     "collapsed": false,
     "input": [
      "from sklearn.datasets import *\n",
      "from sklearn.cross_validation import train_test_split\n",
      "\n",
      "data = load_boston()\n",
      "\n",
      "X_train, X_test, y_train, y_test = train_test_split(data.data, data.target, train_size=0.5)\n",
      "model = LinearRegression()\n",
      "model.fit(X_train, y_train)\n",
      "print \"Train R2 %f\" %model.score(X_train, y_train)\n",
      "print \"Test R2 %f\" %model.score(X_test, y_test)"
     ],
     "language": "python",
     "metadata": {},
     "outputs": [
      {
       "output_type": "stream",
       "stream": "stdout",
       "text": [
        "Train R2 0.681297\n",
        "Test R2 0.774431\n"
       ]
      }
     ],
     "prompt_number": 30
    },
    {
     "cell_type": "code",
     "collapsed": false,
     "input": [
      "from sklearn.datasets import load_boston\n",
      "boston = datasets.load_boston()\n",
      "train_data, test_data, train_target, test_target = \\\n",
      "        train_test_split(boston.data, boston.target, train_size=.8)\n",
      "train_data.shape"
     ],
     "language": "python",
     "metadata": {},
     "outputs": [
      {
       "metadata": {},
       "output_type": "pyout",
       "prompt_number": 31,
       "text": [
        "(404L, 13L)"
       ]
      }
     ],
     "prompt_number": 31
    },
    {
     "cell_type": "code",
     "collapsed": false,
     "input": [
      "from sklearn import datasets\n",
      "boston = datasets.load_boston()\n",
      "X = boston.data\n",
      "y = boston.target\n",
      "\n",
      "print X.shape\n",
      "print y.shape\n",
      "from sklearn import linear_model\n",
      "linreg = linear_model.LinearRegression()\n",
      "_=linreg.fit(train_data, train_target)"
     ],
     "language": "python",
     "metadata": {},
     "outputs": [
      {
       "output_type": "stream",
       "stream": "stdout",
       "text": [
        "(506L, 13L)\n",
        "(506L,)\n"
       ]
      }
     ],
     "prompt_number": 32
    },
    {
     "cell_type": "code",
     "collapsed": false,
     "input": [
      "from sklearn import metrics\n",
      "mse = metrics.mean_squared_error(test_target, linreg.predict(test_data)) \n",
      "print(\"MSE is {}\".format(mse))"
     ],
     "language": "python",
     "metadata": {},
     "outputs": [
      {
       "output_type": "stream",
       "stream": "stdout",
       "text": [
        "MSE is 19.4754347716\n"
       ]
      }
     ],
     "prompt_number": 33
    },
    {
     "cell_type": "code",
     "collapsed": false,
     "input": [],
     "language": "python",
     "metadata": {},
     "outputs": [],
     "prompt_number": 33
    },
    {
     "cell_type": "code",
     "collapsed": false,
     "input": [],
     "language": "python",
     "metadata": {},
     "outputs": [],
     "prompt_number": 33
    },
    {
     "cell_type": "code",
     "collapsed": false,
     "input": [],
     "language": "python",
     "metadata": {},
     "outputs": [],
     "prompt_number": 33
    },
    {
     "cell_type": "code",
     "collapsed": false,
     "input": [],
     "language": "python",
     "metadata": {},
     "outputs": []
    }
   ],
   "metadata": {}
  }
 ]
}